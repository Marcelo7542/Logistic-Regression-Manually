{
 "cells": [
  {
   "cell_type": "code",
   "execution_count": null,
   "id": "c3e63077-db73-42ff-addb-fa29a9c04810",
   "metadata": {},
   "outputs": [],
   "source": [
    "import numpy as np\n",
    "import pandas as pd\n",
    "import matplotlib.pyplot as plt\n",
    "from sklearn.datasets import load_iris\n",
    "from sklearn.model_selection import train_test_split\n",
    "from sklearn.linear_model import LogisticRegression\n",
    "from sklearn.metrics import accuracy_score,precision_score,recall_score,f1_score, ConfusionMatrixDisplay\n",
    "import time"
   ]
  },
  {
   "cell_type": "code",
   "execution_count": null,
   "id": "c29a436c-6a45-4a6f-9c34-5563b312800d",
   "metadata": {},
   "outputs": [],
   "source": [
    "data = load_iris(as_frame=False)\n",
    "X = data.data\n",
    "Y = data.target\n",
    "target_names = data.target_names"
   ]
  },
  {
   "cell_type": "code",
   "execution_count": null,
   "id": "e04c5adb-8e37-4672-994b-6b01b66ed0c8",
   "metadata": {},
   "outputs": [],
   "source": [
    "X_train, X_test, y_train, y_test = train_test_split(X, Y, random_state=60)\n",
    "modelo = LogisticRegression(random_state=60)\n",
    "modelo.fit(X_train, y_train)\n",
    "pred = modelo.predict(X_test)\n",
    "pred_prob = modelo.predict_proba(X_test)\n",
    "max_probabilities = np.max(pred_prob, axis=1)"
   ]
  },
  {
   "cell_type": "code",
   "execution_count": null,
   "id": "e6bf7b54-30de-42ba-be3b-1263934dc530",
   "metadata": {},
   "outputs": [],
   "source": [
    "for i in range(len(pred)):\n",
    "    print(f'Target names: {target_names[pred][i]}')\n",
    "    print(f'prediction: {pred[i]}')\n",
    "    print(f'True target: {y_test[i]}')\n",
    "    print(f'Probability: {max_probabilities.round(2)[i]}')"
   ]
  },
  {
   "cell_type": "code",
   "execution_count": null,
   "id": "75382b9a-40a2-4ce2-892f-c76cac408c8b",
   "metadata": {},
   "outputs": [],
   "source": [
    "print(accuracy_score(y_test, pred))\n",
    "print(precision_score(y_test, pred,average='weighted'))\n",
    "print(recall_score(y_test, pred,average='weighted'))\n",
    "print(f1_score(y_test, pred, average='weighted'))"
   ]
  },
  {
   "cell_type": "code",
   "execution_count": null,
   "id": "5dfaecde-52e4-4c2a-822a-f732e7b0059d",
   "metadata": {},
   "outputs": [],
   "source": [
    "ConfusionMatrixDisplay.from_predictions(y_test, pred)\n",
    "plt.show()"
   ]
  },
  {
   "cell_type": "code",
   "execution_count": null,
   "id": "a3af989c-46f9-4962-84b0-b4b5f4eaad01",
   "metadata": {},
   "outputs": [],
   "source": [
    "ConfusionMatrixDisplay.from_predictions(y_test, pred, normalize=\"true\",values_format=\".0%\")\n",
    "plt.show()"
   ]
  },
  {
   "cell_type": "code",
   "execution_count": null,
   "id": "6ac1cc6f-bd31-4101-b0d5-1a72522bec09",
   "metadata": {},
   "outputs": [],
   "source": [
    "sample_weight = (pred != y_test)\n",
    "ConfusionMatrixDisplay.from_predictions(y_test, pred, sample_weight=sample_weight, normalize=\"true\", values_format=\".0%\")\n",
    "plt.show()"
   ]
  },
  {
   "cell_type": "code",
   "execution_count": null,
   "id": "89b52472-a121-485d-86a2-4349260b2e8a",
   "metadata": {},
   "outputs": [],
   "source": [
    "eta = 0.01\n",
    "n_epochs = 10\n",
    "theta = np.random.randn(4,1)\n",
    "n = len(X_train)\n",
    "\n",
    "costs = []\n",
    "start_time = time.time()\n",
    "def softmax(X_train):\n",
    "    exp_X = np.exp(X_train - np.max(X_train, axis = 1, keepdims= True))\n",
    "    return exp_X / np.sum(exp_X, axis=1, keepdims=True)\n",
    "\n",
    "for epochs in range(n_epochs):\n",
    "    logit = X_train @ theta\n",
    "    prob = softmax(logit)\n",
    "    grad = 1 / n * X_train.T @ (prob - y_train)\n",
    "    theta = theta - eta * grad \n",
    "    cost = (-1/n) * np.sum(y_train @ np.log(prob + 1e-9))\n",
    "    costs.append(costs)\n",
    "\n",
    "end_time = time.time()\n",
    "exc_time = end_time = start_time\n",
    "print(f\"Tempo total de execução: {exc_time:.4f} segundos\")\n",
    "plt.plot(costs, label=\"Custo por época\")\n",
    "plt.xlabel(\"Épocas\")\n",
    "plt.ylabel(\"Custo\")\n",
    "plt.title(\"Convergência do Gradiente Descendente\")\n",
    "plt.legend()\n",
    "plt.grid()\n",
    "plt.show()"
   ]
  },
  {
   "cell_type": "code",
   "execution_count": null,
   "id": "33a6d3c0-f46e-4586-a7d1-ea82e501e11c",
   "metadata": {},
   "outputs": [],
   "source": [
    "def predict(X, theta):\n",
    "    logits = X @ theta\n",
    "    probabilities = softmax(logits)\n",
    "    predicted_classes = np.argmax(probabilities, axis=1)\n",
    "    return predicted_classes\n",
    "predictions = predict(X_test, theta)\n",
    "for i in range(len(predictions)):\n",
    "    print(f'Target names: {target_names[predictions][i]}')\n",
    "    print(f'prediction: {predictions[i]}')\n",
    "    print(f'True target: {y_test[i]}')"
   ]
  },
  {
   "cell_type": "code",
   "execution_count": null,
   "id": "eefa7a42-ae21-4aab-bd3f-bd948d4a2e5d",
   "metadata": {},
   "outputs": [],
   "source": []
  }
 ],
 "metadata": {
  "kernelspec": {
   "display_name": "Python 3 (ipykernel)",
   "language": "python",
   "name": "python3"
  },
  "language_info": {
   "codemirror_mode": {
    "name": "ipython",
    "version": 3
   },
   "file_extension": ".py",
   "mimetype": "text/x-python",
   "name": "python",
   "nbconvert_exporter": "python",
   "pygments_lexer": "ipython3",
   "version": "3.11.7"
  }
 },
 "nbformat": 4,
 "nbformat_minor": 5
}
